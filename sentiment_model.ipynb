{
 "cells": [
  {
   "cell_type": "code",
   "execution_count": null,
   "metadata": {},
   "outputs": [
    {
     "name": "stdout",
     "output_type": "stream",
     "text": [
      "Listening for messages...\n",
      "Processing: aefjkwn\n",
      "Processing: ama nmfqw\n",
      "Processing: mwenc,wme\n",
      "Processing: QWDQ\n",
      "Processing: bnbvnb\n"
     ]
    }
   ],
   "source": [
    "import redis\n",
    "import time\n",
    "import random\n",
    "\n",
    "# Connect to Redis\n",
    "redis_client = redis.Redis(host=\"localhost\", port=6379, decode_responses=True)\n",
    "pubsub = redis_client.pubsub()\n",
    "pubsub.subscribe(\"chat_channel\")\n",
    "\n",
    "sentiment_map = {0: \"Negative 😡\", 1: \"Neutral 😐\", 2: \"Positive 😊\"}\n",
    "\n",
    "print(\"Listening for messages...\")\n",
    "\n",
    "while True:\n",
    "    message = pubsub.get_message()\n",
    "    if message and message[\"type\"] == \"message\":\n",
    "        text = message[\"data\"]\n",
    "        print(f\"Processing: {text}\")\n",
    "        \n",
    "        # Mock sentiment analysis\n",
    "        sentiment_score = random.choice([0, 1, 2])\n",
    "        sentiment = sentiment_map[sentiment_score]\n",
    "        \n",
    "        # Publish result\n",
    "        redis_client.publish(\"sentiment_results\", f\"{text} -> {sentiment}\")\n",
    "    \n",
    "    time.sleep(1)\n"
   ]
  },
  {
   "cell_type": "code",
   "execution_count": null,
   "metadata": {},
   "outputs": [],
   "source": []
  }
 ],
 "metadata": {
  "kernelspec": {
   "display_name": "Python 3",
   "language": "python",
   "name": "python3"
  },
  "language_info": {
   "codemirror_mode": {
    "name": "ipython",
    "version": 3
   },
   "file_extension": ".py",
   "mimetype": "text/x-python",
   "name": "python",
   "nbconvert_exporter": "python",
   "pygments_lexer": "ipython3",
   "version": "3.13.2"
  }
 },
 "nbformat": 4,
 "nbformat_minor": 2
}
